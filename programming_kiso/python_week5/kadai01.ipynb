{
 "cells": [
  {
   "cell_type": "markdown",
   "metadata": {},
   "source": [
    "数値積分する関数(nintegrate)。台形積分による\n",
    "またその関数をmylibdir/mylib.py(名前は適当)に書き込む"
   ]
  },
  {
   "cell_type": "code",
   "execution_count": 7,
   "metadata": {},
   "outputs": [],
   "source": [
    "def nintegrate(func, x_start, x_end, split_num):\n",
    "    ans = 0\n",
    "    split = abs(x_end - x_start) / split_num\n",
    "    x0 = 0\n",
    "    for i in range(split_num):\n",
    "        ans += (func(x0) + func(x0+split)) * split / 2\n",
    "        x0 += split\n",
    "    return ans"
   ]
  },
  {
   "cell_type": "code",
   "execution_count": 8,
   "metadata": {},
   "outputs": [
    {
     "data": {
      "text/plain": [
       "383.33349999998956"
      ]
     },
     "execution_count": 8,
     "metadata": {},
     "output_type": "execute_result"
    }
   ],
   "source": [
    "nintegrate(lambda x: x+x**2, 0, 10, 1000)"
   ]
  },
  {
   "cell_type": "code",
   "execution_count": 9,
   "metadata": {},
   "outputs": [
    {
     "data": {
      "text/plain": [
       "383.33349999998956"
      ]
     },
     "execution_count": 9,
     "metadata": {},
     "output_type": "execute_result"
    }
   ],
   "source": [
    "from mylibdir.mylib import nintegrate\n",
    "nintegrate(lambda x: x+x**2, 0, 10, 1000)"
   ]
  }
 ],
 "metadata": {
  "kernelspec": {
   "display_name": "Python 3",
   "language": "python",
   "name": "python3"
  },
  "language_info": {
   "codemirror_mode": {
    "name": "ipython",
    "version": 3
   },
   "file_extension": ".py",
   "mimetype": "text/x-python",
   "name": "python",
   "nbconvert_exporter": "python",
   "pygments_lexer": "ipython3",
   "version": "3.6.5"
  }
 },
 "nbformat": 4,
 "nbformat_minor": 2
}
