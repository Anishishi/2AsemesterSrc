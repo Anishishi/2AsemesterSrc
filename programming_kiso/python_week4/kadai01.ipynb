{
 "cells": [
  {
   "cell_type": "markdown",
   "metadata": {},
   "source": [
    "有理数を扱うクラス"
   ]
  },
  {
   "cell_type": "code",
   "execution_count": 30,
   "metadata": {
    "collapsed": true
   },
   "outputs": [],
   "source": [
    "class MyRational:\n",
    "    def __init__(self, upper, lower):\n",
    "        self.upper = upper\n",
    "        self.lower = lower\n",
    "        \n",
    "    def __repr__(self):\n",
    "        s = f'{self.upper} / {self.lower}'\n",
    "        return s\n",
    "    \n",
    "    def __add__(self, r_additional):\n",
    "        return self.upper / self.lower + r_additional.upper / r_additional.lower\n",
    "    \n",
    "    def __mul__(self, r_additional):\n",
    "        return (self.upper / self.lower)*(r_additional.upper / r_additional.lower)\n",
    "    \n",
    "    def __str__(self):\n",
    "        return '{0} / {1}'.format(self.upper, self.lower)\n",
    "    \n",
    "    def __hash__(self):\n",
    "        return self.upper / self.lower\n",
    "    \n",
    "    def __eq__(self, other):\n",
    "        return self.upper == other.upper and self.lower == other.lower"
   ]
  },
  {
   "cell_type": "code",
   "execution_count": 33,
   "metadata": {},
   "outputs": [
    {
     "name": "stdout",
     "output_type": "stream",
     "text": [
      "1 / 3\n"
     ]
    },
    {
     "data": {
      "text/plain": [
       "1.0"
      ]
     },
     "execution_count": 33,
     "metadata": {},
     "output_type": "execute_result"
    }
   ],
   "source": [
    "r1=MyRational(1,3)\n",
    "r2=MyRational(2,3)\n",
    "r3=MyRational(1,3)\n",
    "print(r1)\n",
    "r1+r2"
   ]
  },
  {
   "cell_type": "code",
   "execution_count": 34,
   "metadata": {},
   "outputs": [
    {
     "data": {
      "text/plain": [
       "0.2222222222222222"
      ]
     },
     "execution_count": 34,
     "metadata": {},
     "output_type": "execute_result"
    }
   ],
   "source": [
    "r1*r2"
   ]
  },
  {
   "cell_type": "code",
   "execution_count": 36,
   "metadata": {},
   "outputs": [
    {
     "data": {
      "text/plain": [
       "True"
      ]
     },
     "execution_count": 36,
     "metadata": {},
     "output_type": "execute_result"
    }
   ],
   "source": [
    "r1 == r3"
   ]
  }
 ],
 "metadata": {
  "kernelspec": {
   "display_name": "Python 3",
   "language": "python",
   "name": "python3"
  },
  "language_info": {
   "codemirror_mode": {
    "name": "ipython",
    "version": 3
   },
   "file_extension": ".py",
   "mimetype": "text/x-python",
   "name": "python",
   "nbconvert_exporter": "python",
   "pygments_lexer": "ipython3",
   "version": "3.6.1"
  }
 },
 "nbformat": 4,
 "nbformat_minor": 2
}
