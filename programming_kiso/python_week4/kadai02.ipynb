{
 "cells": [
  {
   "cell_type": "markdown",
   "metadata": {},
   "source": [
    "MyRationalクラスを継承してMyintegerクラスを作る。\n",
    "また、階乗を計算するメソッドと素数の判定をするメソッドを組み込む。"
   ]
  },
  {
   "cell_type": "code",
   "execution_count": 1,
   "metadata": {
    "collapsed": true
   },
   "outputs": [],
   "source": [
    "class MyRational:\n",
    "    def __init__(self, upper, lower):\n",
    "        self.upper = upper\n",
    "        self.lower = lower\n",
    "        \n",
    "    def __repr__(self):\n",
    "        s = f'{self.upper} / {self.lower}'\n",
    "        return s\n",
    "    \n",
    "    def __add__(self, r_additional):\n",
    "        return self.upper / self.lower + r_additional.upper / r_additional.lower\n",
    "    \n",
    "    def __mul__(self, r_additional):\n",
    "        return (self.upper / self.lower)*(r_additional.upper / r_additional.lower)\n",
    "    \n",
    "    def __str__(self):\n",
    "        return '{0} / {1}'.format(self.upper, self.lower)\n",
    "    \n",
    "    def __hash__(self):\n",
    "        return self.upper / self.lower\n",
    "    \n",
    "    def __eq__(self, other):\n",
    "        return self.upper == other.upper and self.lower == other.lower"
   ]
  },
  {
   "cell_type": "code",
   "execution_count": 4,
   "metadata": {},
   "outputs": [],
   "source": [
    "class Myinteger(MyRational):\n",
    "    def __init__(self, upper, lower=1):\n",
    "        super().__init__(upper, lower)\n",
    "            \n",
    "    def factorial(self):\n",
    "        cross=1\n",
    "        for i in range(1, self.upper+1):\n",
    "            cross *= i\n",
    "        return cross\n",
    "    \n",
    "    def is_prime(self):\n",
    "        a = int(self.upper / 2)\n",
    "        if self.upper==1:\n",
    "            return False\n",
    "        elif self.upper==2 or self.upper==3:\n",
    "            return True\n",
    "        else:\n",
    "            for i in range(2, a+1):\n",
    "                if self.upper%i==0:\n",
    "                    return False\n",
    "        return True"
   ]
  },
  {
   "cell_type": "code",
   "execution_count": 12,
   "metadata": {},
   "outputs": [
    {
     "data": {
      "text/plain": [
       "120"
      ]
     },
     "execution_count": 12,
     "metadata": {},
     "output_type": "execute_result"
    }
   ],
   "source": [
    "a=Myinteger(5)\n",
    "a.factorial()"
   ]
  },
  {
   "cell_type": "code",
   "execution_count": 19,
   "metadata": {},
   "outputs": [
    {
     "data": {
      "text/plain": [
       "True"
      ]
     },
     "execution_count": 19,
     "metadata": {},
     "output_type": "execute_result"
    }
   ],
   "source": [
    "b=Myinteger(7)\n",
    "b.is_prime()"
   ]
  }
 ],
 "metadata": {
  "kernelspec": {
   "display_name": "Python 3",
   "language": "python",
   "name": "python3"
  },
  "language_info": {
   "codemirror_mode": {
    "name": "ipython",
    "version": 3
   },
   "file_extension": ".py",
   "mimetype": "text/x-python",
   "name": "python",
   "nbconvert_exporter": "python",
   "pygments_lexer": "ipython3",
   "version": "3.6.1"
  }
 },
 "nbformat": 4,
 "nbformat_minor": 2
}
