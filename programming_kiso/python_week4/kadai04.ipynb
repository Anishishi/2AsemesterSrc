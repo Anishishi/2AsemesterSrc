{
 "cells": [
  {
   "cell_type": "markdown",
   "metadata": {},
   "source": [
    "逆行列を計算するメソッドinverse()の実装\n",
    "また行列式が0になる時は自作のエラーSingularMatrixExceptionを発生させる"
   ]
  },
  {
   "cell_type": "code",
   "execution_count": 27,
   "metadata": {},
   "outputs": [],
   "source": [
    "class SingularMatrixException(Exception):\n",
    "    pass"
   ]
  },
  {
   "cell_type": "code",
   "execution_count": 28,
   "metadata": {},
   "outputs": [],
   "source": [
    "import numbers\n",
    "class Matrix:\n",
    "    def __init__(self, elm1, elm2, elm3, elm4):\n",
    "        self.elm1 = elm1\n",
    "        self.elm2 = elm2\n",
    "        self.elm3 = elm3\n",
    "        self.elm4 = elm4\n",
    "    \n",
    "    def add(self, m1):\n",
    "        e1 = self.elm1 + m1.elm1\n",
    "        e2 = self.elm2 + m1.elm2\n",
    "        e3 = self.elm3 + m1.elm3\n",
    "        e4 = self.elm4 + m1.elm4\n",
    "        return Matrix(e1, e2, e3, e4)\n",
    "    \n",
    "    def __add__(self, vector):\n",
    "        if isinstance(vector, Matrix):\n",
    "            return Matrix(self.elm1 + vector.elm1, self.elm2 + vector.elm2, \n",
    "                      self.elm3 + vector.elm3, self.elm4 + vector.elm4)\n",
    "        elif isinstance(vector, numbers.Number):\n",
    "            return Matrix(self.elm1 + vector, self.elm2 + vector, self.elm3 + vector, self.elm4 + vector)\n",
    "        else:\n",
    "            return 'cannot calculate'\n",
    "    \n",
    "    def __sub__(self, vector):\n",
    "        if isinstance(vector, Matrix):\n",
    "            return Matrix(self.elm1 - vector.elm1, self.elm2 - vector.elm2, \n",
    "                      self.elm3 - vector.elm3, self.elm4 - vector.elm4)\n",
    "        elif isinstance(vector, numbers.Number):\n",
    "            return Matrix(self.elm1 - vector, self.elm2 - vector, self.elm3 - vector, self.elm4 - vector)\n",
    "        else:\n",
    "            return 'cannot calculate'\n",
    "    \n",
    "    def mul(self, m2):\n",
    "        e1 = self.elm1 * m2.elm1 + self.elm2 * m2.elm3\n",
    "        e2 = self.elm1 * m2.elm2 + self.elm2 * m2.elm4\n",
    "        e3 = self.elm3 * m2.elm1 + self.elm4 * m2.elm3\n",
    "        e4 = self.elm3 * m2.elm2 + self.elm4 * m2.elm4\n",
    "        return Matrix(e1, e2, e3, e4)\n",
    "    \n",
    "    def __mul__(self, vector):\n",
    "        if isinstance(vector, Matrix):\n",
    "            return Matrix(self.elm1 * vector.elm1 + self.elm2 * vector.elm3,\n",
    "                          self.elm1 * vector.elm2 + self.elm2 * vector.elm4,\n",
    "                          self.elm3 * vector.elm1 + self.elm4 * vector.elm3,\n",
    "                          self.elm3 * vector.elm2 + self.elm4 * vector.elm4)\n",
    "        elif isinstance(vector, numbers.Number):\n",
    "            return Matrix(self.elm1 * vector, self.elm2 * vector, self.elm3 * vector, self.elm4 * vector)\n",
    "        else:\n",
    "            return 'cannot calculate'\n",
    "        \n",
    "    def __pow__(self, vector):\n",
    "        if isinstance(vector, numbers.Number):\n",
    "            ans = Matrix(1, 0, 0, 1)\n",
    "            for i in range(vector):\n",
    "                ans = ans.mul(self)\n",
    "            return ans\n",
    "        else:\n",
    "            return 'cannot calculate'\n",
    "    \n",
    "    def divide(self, num):\n",
    "        e1 = self.elm1 / num\n",
    "        e2 = self.elm2 / num\n",
    "        e3 = self.elm3 / num\n",
    "        e4 = self.elm4 / num\n",
    "        return Matrix(e1, e2, e3, e4)\n",
    "    \n",
    "    def __repr__(self):\n",
    "        s = f'[{self.elm1} {self.elm2}]\\n'\n",
    "        s += f'[{self.elm3} {self.elm4}]\\n'\n",
    "        return s\n",
    "    \n",
    "    def inverse(self):\n",
    "        determinant = self.elm1*self.elm4-self.elm2*self.elm3\n",
    "        if determinant == 0:\n",
    "            raise SingularMatrixException('determinant is 0')\n",
    "        else:\n",
    "            reverse=Matrix(self.elm4, -self.elm2, -self.elm3, self.elm1)\n",
    "            return reverse.divide(determinant)"
   ]
  },
  {
   "cell_type": "code",
   "execution_count": 29,
   "metadata": {},
   "outputs": [
    {
     "name": "stdout",
     "output_type": "stream",
     "text": [
      "[-0.5 0.5]\n",
      "[2.5 -1.5]\n",
      "\n"
     ]
    },
    {
     "ename": "SingularMatrixException",
     "evalue": "determinant is 0",
     "output_type": "error",
     "traceback": [
      "\u001b[0;31m---------------------------------------------------------------------------\u001b[0m",
      "\u001b[0;31mSingularMatrixException\u001b[0m                   Traceback (most recent call last)",
      "\u001b[0;32m<ipython-input-29-4b1c23280c0c>\u001b[0m in \u001b[0;36m<module>\u001b[0;34m()\u001b[0m\n\u001b[1;32m      2\u001b[0m \u001b[0mv2\u001b[0m\u001b[0;34m=\u001b[0m\u001b[0mMatrix\u001b[0m\u001b[0;34m(\u001b[0m\u001b[0;36m3\u001b[0m\u001b[0;34m,\u001b[0m\u001b[0;36m2\u001b[0m\u001b[0;34m,\u001b[0m\u001b[0;36m6\u001b[0m\u001b[0;34m,\u001b[0m\u001b[0;36m4\u001b[0m\u001b[0;34m)\u001b[0m\u001b[0;34m\u001b[0m\u001b[0m\n\u001b[1;32m      3\u001b[0m \u001b[0mprint\u001b[0m\u001b[0;34m(\u001b[0m\u001b[0mv1\u001b[0m\u001b[0;34m.\u001b[0m\u001b[0minverse\u001b[0m\u001b[0;34m(\u001b[0m\u001b[0;34m)\u001b[0m\u001b[0;34m)\u001b[0m\u001b[0;34m\u001b[0m\u001b[0m\n\u001b[0;32m----> 4\u001b[0;31m \u001b[0mprint\u001b[0m\u001b[0;34m(\u001b[0m\u001b[0mv2\u001b[0m\u001b[0;34m.\u001b[0m\u001b[0minverse\u001b[0m\u001b[0;34m(\u001b[0m\u001b[0;34m)\u001b[0m\u001b[0;34m)\u001b[0m\u001b[0;34m\u001b[0m\u001b[0m\n\u001b[0m",
      "\u001b[0;32m<ipython-input-28-c0c01ac1c361>\u001b[0m in \u001b[0;36minverse\u001b[0;34m(self)\u001b[0m\n\u001b[1;32m     74\u001b[0m         \u001b[0mdeterminant\u001b[0m \u001b[0;34m=\u001b[0m \u001b[0mself\u001b[0m\u001b[0;34m.\u001b[0m\u001b[0melm1\u001b[0m\u001b[0;34m*\u001b[0m\u001b[0mself\u001b[0m\u001b[0;34m.\u001b[0m\u001b[0melm4\u001b[0m\u001b[0;34m-\u001b[0m\u001b[0mself\u001b[0m\u001b[0;34m.\u001b[0m\u001b[0melm2\u001b[0m\u001b[0;34m*\u001b[0m\u001b[0mself\u001b[0m\u001b[0;34m.\u001b[0m\u001b[0melm3\u001b[0m\u001b[0;34m\u001b[0m\u001b[0m\n\u001b[1;32m     75\u001b[0m         \u001b[0;32mif\u001b[0m \u001b[0mdeterminant\u001b[0m \u001b[0;34m==\u001b[0m \u001b[0;36m0\u001b[0m\u001b[0;34m:\u001b[0m\u001b[0;34m\u001b[0m\u001b[0m\n\u001b[0;32m---> 76\u001b[0;31m             \u001b[0;32mraise\u001b[0m \u001b[0mSingularMatrixException\u001b[0m\u001b[0;34m(\u001b[0m\u001b[0;34m'determinant is 0'\u001b[0m\u001b[0;34m)\u001b[0m\u001b[0;34m\u001b[0m\u001b[0m\n\u001b[0m\u001b[1;32m     77\u001b[0m         \u001b[0;32melse\u001b[0m\u001b[0;34m:\u001b[0m\u001b[0;34m\u001b[0m\u001b[0m\n\u001b[1;32m     78\u001b[0m             \u001b[0mreverse\u001b[0m\u001b[0;34m=\u001b[0m\u001b[0mMatrix\u001b[0m\u001b[0;34m(\u001b[0m\u001b[0mself\u001b[0m\u001b[0;34m.\u001b[0m\u001b[0melm4\u001b[0m\u001b[0;34m,\u001b[0m \u001b[0;34m-\u001b[0m\u001b[0mself\u001b[0m\u001b[0;34m.\u001b[0m\u001b[0melm2\u001b[0m\u001b[0;34m,\u001b[0m \u001b[0;34m-\u001b[0m\u001b[0mself\u001b[0m\u001b[0;34m.\u001b[0m\u001b[0melm3\u001b[0m\u001b[0;34m,\u001b[0m \u001b[0mself\u001b[0m\u001b[0;34m.\u001b[0m\u001b[0melm1\u001b[0m\u001b[0;34m)\u001b[0m\u001b[0;34m\u001b[0m\u001b[0m\n",
      "\u001b[0;31mSingularMatrixException\u001b[0m: determinant is 0"
     ]
    }
   ],
   "source": [
    "v1=Matrix(3,1,5,1)\n",
    "v2=Matrix(3,2,6,4)\n",
    "print(v1.inverse())\n",
    "print(v2.inverse())"
   ]
  }
 ],
 "metadata": {
  "kernelspec": {
   "display_name": "Python 3",
   "language": "python",
   "name": "python3"
  },
  "language_info": {
   "codemirror_mode": {
    "name": "ipython",
    "version": 3
   },
   "file_extension": ".py",
   "mimetype": "text/x-python",
   "name": "python",
   "nbconvert_exporter": "python",
   "pygments_lexer": "ipython3",
   "version": "3.6.5"
  }
 },
 "nbformat": 4,
 "nbformat_minor": 2
}
