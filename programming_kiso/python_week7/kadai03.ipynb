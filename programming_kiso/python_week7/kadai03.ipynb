{
 "cells": [
  {
   "cell_type": "markdown",
   "metadata": {},
   "source": [
    "taylor展開を求める\n",
    "taylor(関数, 変数, 展開する点, 何次まで)"
   ]
  },
  {
   "cell_type": "code",
   "execution_count": 1,
   "metadata": {},
   "outputs": [],
   "source": [
    "import sympy as sym\n",
    "def factorial(n):\n",
    "    if n==0 or n==1:\n",
    "        return 1\n",
    "    else:\n",
    "        return factorial(n-1)*n\n",
    "\n",
    "def taylor(func, x, x0, n):\n",
    "    ans = func.subs([(x, x0)])\n",
    "    for i in range(1, n+1):\n",
    "        func_diff = sym.diff(func, x, i)\n",
    "        ans += func_diff.subs([(x, x0)]) * (x-x0)**i / factorial(i)\n",
    "    return ans"
   ]
  },
  {
   "cell_type": "code",
   "execution_count": 2,
   "metadata": {},
   "outputs": [
    {
     "data": {
      "image/png": "[encoded data removed]",
      "text/latex": [
       "$$- \\frac{x^{7}}{5040} + \\frac{x^{5}}{120} - \\frac{x^{3}}{6} + x$$"
      ],
      "text/plain": [
       "    7      5    3    \n",
       "   x      x    x     \n",
       "- ──── + ─── - ── + x\n",
       "  5040   120   6     "
      ]
     },
     "execution_count": 2,
     "metadata": {},
     "output_type": "execute_result"
    }
   ],
   "source": [
    "sym.init_printing()\n",
    "x = sym.Symbol('x')\n",
    "taylor(sym.sin(x), x, 0, 8)"
   ]
  }
 ],
 "metadata": {
  "kernelspec": {
   "display_name": "Python 3",
   "language": "python",
   "name": "python3"
  },
  "language_info": {
   "codemirror_mode": {
    "name": "ipython",
    "version": 3
   },
   "file_extension": ".py",
   "mimetype": "text/x-python",
   "name": "python",
   "nbconvert_exporter": "python",
   "pygments_lexer": "ipython3",
   "version": "3.7.1"
  }
 },
 "nbformat": 4,
 "nbformat_minor": 2
}
