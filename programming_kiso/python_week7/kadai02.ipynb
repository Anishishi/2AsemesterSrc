{
 "cells": [
  {
   "cell_type": "markdown",
   "metadata": {},
   "source": [
    "エルミート多項式が直行完全系であることを確認するためにinner_pod関数を作り、具体的な数値に対して計算して確かめる\n",
    "m,nが等しい時1,異なる時0になればよい"
   ]
  },
  {
   "cell_type": "code",
   "execution_count": 21,
   "metadata": {},
   "outputs": [],
   "source": [
    "import sympy\n",
    "sympy.init_printing()#jupyter上で綺麗に表示させる\n",
    "def hermite(n, x):\n",
    "    if n==0:\n",
    "        return 1\n",
    "    elif n==1:\n",
    "        return 2*x\n",
    "    else:\n",
    "        return 2*x*hermite(n-1, x)-2*(n-1)*hermite(n-2, x)\n",
    "\n",
    "def inner_pod(m, n):\n",
    "    x = sympy.Symbol('x')\n",
    "    return sympy.integrate(hermite(m, x)*hermite(n, x)*sympy.exp(-x**2), (x, -sympy.oo, sympy.oo))\n",
    "\n",
    "def factorial(n):\n",
    "    if n==0 or n==1:\n",
    "        return 1\n",
    "    else:\n",
    "        return factorial(n-1)*n"
   ]
  },
  {
   "cell_type": "code",
   "execution_count": 22,
   "metadata": {},
   "outputs": [
    {
     "name": "stdout",
     "output_type": "stream",
     "text": [
      "m=1, n=0: 0\n",
      "m=1, n=1: 1\n",
      "m=2, n=0: 0\n",
      "m=2, n=1: 0\n",
      "m=2, n=2: 1\n",
      "m=3, n=0: 0\n",
      "m=3, n=1: 0\n",
      "m=3, n=2: 0\n",
      "m=3, n=3: 1\n",
      "m=4, n=0: 0\n",
      "m=4, n=1: 0\n",
      "m=4, n=2: 0\n",
      "m=4, n=3: 0\n",
      "m=4, n=4: 1\n",
      "m=5, n=0: 0\n",
      "m=5, n=1: 0\n",
      "m=5, n=2: 0\n",
      "m=5, n=3: 0\n",
      "m=5, n=4: 0\n",
      "m=5, n=5: 1\n"
     ]
    }
   ],
   "source": [
    "import math\n",
    "for i in range(1, 6):\n",
    "    for j in range(i+1):\n",
    "        ans = inner_pod(i, j)/(sympy.sqrt(sympy.pi)*2**i*factorial(i))\n",
    "        print(f'm={i}, n={j}: {ans}')"
   ]
  }
 ],
 "metadata": {
  "kernelspec": {
   "display_name": "Python 3",
   "language": "python",
   "name": "python3"
  },
  "language_info": {
   "codemirror_mode": {
    "name": "ipython",
    "version": 3
   },
   "file_extension": ".py",
   "mimetype": "text/x-python",
   "name": "python",
   "nbconvert_exporter": "python",
   "pygments_lexer": "ipython3",
   "version": "3.7.1"
  }
 },
 "nbformat": 4,
 "nbformat_minor": 2
}
