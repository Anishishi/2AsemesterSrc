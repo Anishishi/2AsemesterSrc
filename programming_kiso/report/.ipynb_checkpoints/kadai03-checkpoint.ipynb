{
 "cells": [
  {
   "cell_type": "markdown",
   "metadata": {},
   "source": [
    "ICAの適用：二つの画像の異なる比率の重ね合わせに作成したICAを適用し、画像を分離する。"
   ]
  },
  {
   "cell_type": "code",
   "execution_count": 36,
   "metadata": {},
   "outputs": [],
   "source": [
    "import numpy as np\n",
    "import matplotlib.pylab as plt\n",
    "from PIL import Image"
   ]
  },
  {
   "cell_type": "code",
   "execution_count": 37,
   "metadata": {},
   "outputs": [
    {
     "name": "stdout",
     "output_type": "stream",
     "text": [
      "512\n"
     ]
    }
   ],
   "source": [
    "#画像データの読み込み\n",
    "arr1 = np.array(Image.open(\"image1.png\"))\n",
    "arr2 = np.array(Image.open(\"image2.png\"))\n",
    "print(len(arr1[1]))#横の長さ"
   ]
  },
  {
   "cell_type": "code",
   "execution_count": 38,
   "metadata": {},
   "outputs": [
    {
     "name": "stdout",
     "output_type": "stream",
     "text": [
      "512.0\n"
     ]
    }
   ],
   "source": [
    "#配列をならす\n",
    "arr1 = arr1.flatten()\n",
    "arr2 = arr2.flatten()\n",
    "print(len(arr1)/512)#縦の長さ"
   ]
  },
  {
   "cell_type": "code",
   "execution_count": 39,
   "metadata": {},
   "outputs": [],
   "source": [
    "#データの整形\n",
    "data1 = arr1.tolist()\n",
    "data2 = arr2.tolist()\n",
    "data1 -= np.mean(data1)\n",
    "data2 -= np.mean(data2)\n",
    "data = [data1, data2]\n",
    "datax = np.asmatrix(data)"
   ]
  },
  {
   "cell_type": "code",
   "execution_count": 40,
   "metadata": {},
   "outputs": [
    {
     "data": {
      "text/plain": [
       "array([[ 1.00000000e+00, -8.12397499e-14],\n",
       "       [-8.12397499e-14,  1.00000000e+00]])"
      ]
     },
     "execution_count": 40,
     "metadata": {},
     "output_type": "execute_result"
    }
   ],
   "source": [
    "#データを白色化する\n",
    "sigma = np.cov(datax, rowvar=True, bias=True)\n",
    "D, E = np.linalg.eigh(sigma)\n",
    "E = np.asmatrix(E)\n",
    "Dh = np.diag(np.array(D) ** (-1/2))\n",
    "V = E * Dh * E.T\n",
    "z = V * datax\n",
    "#確認用\n",
    "np.cov(z, rowvar=True, bias=True)"
   ]
  },
  {
   "cell_type": "code",
   "execution_count": 41,
   "metadata": {},
   "outputs": [],
   "source": [
    "#大きさを１にして正規化する\n",
    "def normalize(x): #正規化\n",
    "    if x.sum() < 0:\n",
    "        x *= -1\n",
    "    return x / np.linalg.norm(x)\n",
    "\n",
    "r0 = 0.0001#収束半径\n",
    "#yの尖度を最大化\n",
    "W = np.empty((0, 2))\n",
    "for i in range(2):\n",
    "    vec_w = np.random.rand(2,1)\n",
    "    vec_w = normalize(vec_w)\n",
    "    while True:\n",
    "        vec_w_pre = vec_w\n",
    "        vec_w = np.asmatrix((np.asarray(z)*np.asarray(vec_w.T*z)**3).mean(axis=1)).T - 3*vec_w\n",
    "        #直交化法と正規化\n",
    "        vec_w = normalize(np.linalg.qr(np.asmatrix(np.concatenate((W, vec_w.T), axis=0)).T)[0].T[-1].T)\n",
    "        if np.linalg.norm(vec_w - vec_w_pre) < r0:#収束判定\n",
    "            W = np.concatenate((W, vec_w.T), axis=0)\n",
    "            break\n",
    "y = W * z"
   ]
  },
  {
   "cell_type": "code",
   "execution_count": 42,
   "metadata": {},
   "outputs": [],
   "source": [
    "#データの整形を行なったので、元に戻す\n",
    "for i in range(2):\n",
    "    y[i] -= np.amin(y[i])\n",
    "    power = (256-1) / np.amax(y[i])\n",
    "    y[i] *= power"
   ]
  },
  {
   "cell_type": "code",
   "execution_count": 43,
   "metadata": {},
   "outputs": [],
   "source": [
    "image1 = y[0].reshape(512, 512)\n",
    "image2 = y[1].reshape(512, 512)"
   ]
  },
  {
   "cell_type": "code",
   "execution_count": 44,
   "metadata": {},
   "outputs": [],
   "source": [
    "#pngで保存するためにunit8に変換する\n",
    "image1_parted = Image.fromarray(image1.astype(np.uint8))\n",
    "image1_parted.save(\"image1_parted.png\")\n",
    "image2_parted = Image.fromarray(image2.astype(np.uint8))\n",
    "image2_parted.save(\"image2_parted.png\")"
   ]
  }
 ],
 "metadata": {
  "kernelspec": {
   "display_name": "Python 3",
   "language": "python",
   "name": "python3"
  },
  "language_info": {
   "codemirror_mode": {
    "name": "ipython",
    "version": 3
   },
   "file_extension": ".py",
   "mimetype": "text/x-python",
   "name": "python",
   "nbconvert_exporter": "python",
   "pygments_lexer": "ipython3",
   "version": "3.7.1"
  }
 },
 "nbformat": 4,
 "nbformat_minor": 2
}
